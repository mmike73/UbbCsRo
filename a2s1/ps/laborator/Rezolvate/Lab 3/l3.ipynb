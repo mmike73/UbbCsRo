{
 "cells": [
  {
   "cell_type": "code",
   "execution_count": 11,
   "id": "82dde5e2-fc26-4ca5-ad7b-8bcf3bd5c0b3",
   "metadata": {},
   "outputs": [],
   "source": [
    "from random import sample, choices\n",
    "from math import comb"
   ]
  },
  {
   "cell_type": "code",
   "execution_count": 12,
   "id": "22ccb0ca-6910-485b-897a-3a83dd2be5a8",
   "metadata": {},
   "outputs": [
    {
     "name": "stdout",
     "output_type": "stream",
     "text": [
      "Help on method choices in module random:\n",
      "\n",
      "choices(population, weights=None, *, cum_weights=None, k=1) method of random.Random instance\n",
      "    Return a k sized list of population elements chosen with replacement.\n",
      "    \n",
      "    If the relative weights or cumulative weights are not specified,\n",
      "    the selections are made with equal probability.\n",
      "\n"
     ]
    }
   ],
   "source": [
    "help(choices)"
   ]
  },
  {
   "cell_type": "code",
   "execution_count": 13,
   "id": "d2b4d065-1cad-4f91-a8b4-bd1005b2e378",
   "metadata": {},
   "outputs": [],
   "source": [
    "#1a\n",
    "def prob_cond(nr_sim):\n",
    "    countA, countAB = 0, 0\n",
    "    for _ in range(nr_sim):\n",
    "        bile_extrase = sample(['red', 'blue', 'green'], counts=[5,3,2], k = 3)\n",
    "        if 'red' in bile_extrase:\n",
    "            countA+=1\n",
    "            if len(set(bile_extrase))==1:\n",
    "                countAB+=1\n",
    "    return countAB/countA"
   ]
  },
  {
   "cell_type": "code",
   "execution_count": 14,
   "id": "7fbd807b-5223-405c-9a28-ceb3b43203a5",
   "metadata": {},
   "outputs": [
    {
     "data": {
      "text/plain": [
       "0.0939670138888889"
      ]
     },
     "execution_count": 14,
     "metadata": {},
     "output_type": "execute_result"
    }
   ],
   "source": [
    "prob_cond(5000)"
   ]
  },
  {
   "cell_type": "code",
   "execution_count": 16,
   "id": "71b66a1e-6493-4452-b362-7ea00bb22947",
   "metadata": {},
   "outputs": [
    {
     "data": {
      "text/plain": [
       "0.09090909090909091"
      ]
     },
     "execution_count": 16,
     "metadata": {},
     "output_type": "execute_result"
    }
   ],
   "source": [
    "#1b\n",
    "prob_teoretica_AB = comb(5,3)/comb(10,3)\n",
    "prob_teoretica_A = 1 - prob_teoretica_AB\n",
    "prob_B_cond_A_teoretica = prob_teoretica_AB/prob_teoretica_A\n",
    "prob_B_cond_A_teoretica"
   ]
  },
  {
   "cell_type": "code",
   "execution_count": 23,
   "id": "8e403fdf-2c33-46cc-8b7a-d2fe5c6bd359",
   "metadata": {},
   "outputs": [
    {
     "data": {
      "image/png": "[encoded data removed]",
      "text/plain": [
       "<Figure size 640x480 with 1 Axes>"
      ]
     },
     "metadata": {},
     "output_type": "display_data"
    }
   ],
   "source": [
    "#2\n",
    "from random import randrange\n",
    "from matplotlib.pyplot import bar, show, hist, grid, legend\n",
    "\n",
    "data = [randrange(1,7) for _ in range(500)]\n",
    "bin_edges = [i+0.5 for i in range(7)]                                     \n",
    " #  Pentru histograme, bin_edges definește marginile intervalelor (barelor). \n",
    " #  Aici, marginile sunt ușor deplasate pentru a centra barele pe valorile 1, 2, ..., 6, deoarece fiecare valoare are o limită de +/- 0.5.\n",
    "\n",
    "#datele probabilistice  -verde\n",
    "hist(data, bin_edges, density = True, rwidth=0.9, color ='green',   \n",
    "     edgecolor='black', alpha = 0.5, label='frecvente relative')       \n",
    " #  DENSITY = TRUE FACE CA NUMERELE DIN DATA SA FIE TRANSFORMATE IN PROBABLILITATI (~1/6)\n",
    " #  density=True normalizază histograma pentru a reprezenta frecvențe relative.\n",
    " #  alpha=0.5 ajustează transparența barelor.\n",
    " #  rwidth=0.9 reglează lățimea barelor, lăsând spații mici între ele.\n",
    "\n",
    "#teoretica, cu probabliitatea 1/6\n",
    "distribution = dict([(k,1/6) for k in range(1,7)])\n",
    " #  dictionarul (distribution) definește probabilitatea teoretică uniformă pentru fiecare valoare posibilă a aruncării unui zar (1/6).\n",
    "\n",
    "bar(distribution.keys(),distribution.values(), width=0.85,color='red',\n",
    "    edgecolor='black',alpha=0.6, label='probabilitati')\n",
    " #  distribution.keys() reprezintă valorile 1, 2, ..., 6.\n",
    " #  distribution.values() reprezintă probabilitățile asociate, adică 1/6 pentru fiecare valoare.\n",
    "\n",
    "legend(loc='lower left')\n",
    "grid()\n",
    "show()"
   ]
  },
  {
   "cell_type": "code",
   "execution_count": null,
   "id": "59034b78-a38d-4d5a-98a2-33c8f6342a24",
   "metadata": {},
   "outputs": [],
   "source": []
  }
 ],
 "metadata": {
  "kernelspec": {
   "display_name": "Python 3 (ipykernel)",
   "language": "python",
   "name": "python3"
  },
  "language_info": {
   "codemirror_mode": {
    "name": "ipython",
    "version": 3
   },
   "file_extension": ".py",
   "mimetype": "text/x-python",
   "name": "python",
   "nbconvert_exporter": "python",
   "pygments_lexer": "ipython3",
   "version": "3.11.2"
  }
 },
 "nbformat": 4,
 "nbformat_minor": 5
}
