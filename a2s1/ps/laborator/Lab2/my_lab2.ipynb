{
 "cells": [
  {
   "cell_type": "code",
   "execution_count": 1,
   "id": "d913f2eb-cf31-4160-a507-863c9cb3914b",
   "metadata": {},
   "outputs": [
    {
     "name": "stdout",
     "output_type": "stream",
     "text": [
      "Help on method randint in random:\n",
      "\n",
      "random.randint = randint(a, b) method of random.Random instance\n",
      "    Return random integer in range [a, b], including both end points.\n",
      "\n"
     ]
    }
   ],
   "source": [
    "#1\n",
    "from random import randint\n",
    "help('random.randint')"
   ]
  },
  {
   "cell_type": "code",
   "execution_count": 3,
   "id": "a6cb0059-f522-4275-acc1-81a51a0d44eb",
   "metadata": {},
   "outputs": [],
   "source": [
    "#a Sciet, i o funct, ie care estimeaz  prin  \n",
    "#simulari repetate probabilitatea ca într-un grup \n",
    "#de n persoane cel puµin doua sa aiba aceeasi zi \n",
    "#de nastere, pentru n ∈ N dat ca parametru de \n",
    "#intrare\n",
    "\n",
    "def same_birthday(n, nr_sims=5000):\n",
    "    count = 0\n",
    "    for _ in range(nr_sims):\n",
    "        if len(set([randint(1, 365) for _ in range(n)])) < n:\n",
    "            count += 1\n",
    "    return count / nr_sims"
   ]
  },
  {
   "cell_type": "code",
   "execution_count": 5,
   "id": "1c5167ea-9e06-4272-98dc-466eba34ad63",
   "metadata": {},
   "outputs": [
    {
     "data": {
      "text/plain": [
       "0.5085"
      ]
     },
     "execution_count": 5,
     "metadata": {},
     "output_type": "execute_result"
    }
   ],
   "source": [
    "same_birthday(23,nr_sims=2000)"
   ]
  },
  {
   "cell_type": "code",
   "execution_count": 11,
   "id": "06549310-eaa3-49bd-bfcb-92f75dad4871",
   "metadata": {},
   "outputs": [],
   "source": [
    "# cel putin 2 sa aiba aceeasi zi de nastere\n",
    "def same_birthday_v2(n):\n",
    "    p = 1\n",
    "    for k in range(n):\n",
    "        p *= (365 - k) / 365\n",
    "    return 1 - p\n",
    "        "
   ]
  },
  {
   "cell_type": "code",
   "execution_count": 23,
   "id": "e96a1801-ba1b-4f13-b9b3-63328ccb676e",
   "metadata": {},
   "outputs": [
    {
     "data": {
      "text/plain": [
       "0.5072972343239857"
      ]
     },
     "execution_count": 23,
     "metadata": {},
     "output_type": "execute_result"
    }
   ],
   "source": [
    "same_birthday_v2(23)"
   ]
  },
  {
   "cell_type": "code",
   "execution_count": null,
   "id": "d6956e6c-d600-495f-9c73-b9046a8d24b1",
   "metadata": {},
   "outputs": [],
   "source": []
  }
 ],
 "metadata": {
  "kernelspec": {
   "display_name": "Python 3 (ipykernel)",
   "language": "python",
   "name": "python3"
  },
  "language_info": {
   "codemirror_mode": {
    "name": "ipython",
    "version": 3
   },
   "file_extension": ".py",
   "mimetype": "text/x-python",
   "name": "python",
   "nbconvert_exporter": "python",
   "pygments_lexer": "ipython3",
   "version": "3.11.2"
  }
 },
 "nbformat": 4,
 "nbformat_minor": 5
}
