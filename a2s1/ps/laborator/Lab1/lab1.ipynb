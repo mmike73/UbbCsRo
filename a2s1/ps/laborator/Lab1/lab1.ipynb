{
 "cells": [
  {
   "cell_type": "code",
   "execution_count": 7,
   "id": "c56a8ff8-3f98-450a-afa5-42e2124d6696",
   "metadata": {},
   "outputs": [],
   "source": [
    "from random import sample\n",
    "from math import factorial\n",
    "from itertools import permutations"
   ]
  },
  {
   "cell_type": "code",
   "execution_count": 10,
   "id": "01c25071-867e-4b73-af59-69aa2d825b19",
   "metadata": {},
   "outputs": [],
   "source": [
    "#2a\n",
    "list(permutations('word'));"
   ]
  }
 ],
 "metadata": {
  "kernelspec": {
   "display_name": "Python 3 (ipykernel)",
   "language": "python",
   "name": "python3"
  },
  "language_info": {
   "codemirror_mode": {
    "name": "ipython",
    "version": 3
   },
   "file_extension": ".py",
   "mimetype": "text/x-python",
   "name": "python",
   "nbconvert_exporter": "python",
   "pygments_lexer": "ipython3",
   "version": "3.9.6"
  }
 },
 "nbformat": 4,
 "nbformat_minor": 5
}
