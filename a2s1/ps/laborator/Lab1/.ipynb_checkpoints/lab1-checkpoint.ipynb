{
 "cells": [
  {
   "cell_type": "code",
   "execution_count": 35,
   "id": "c56a8ff8-3f98-450a-afa5-42e2124d6696",
   "metadata": {},
   "outputs": [],
   "source": [
    "from random import sample\n",
    "from math import factorial, perm, comb\n",
    "from itertools import permutations, combinations"
   ]
  },
  {
   "cell_type": "code",
   "execution_count": 36,
   "id": "01c25071-867e-4b73-af59-69aa2d825b19",
   "metadata": {},
   "outputs": [
    {
     "data": {
      "text/plain": [
       "[('w', 'o', 'r', 'd'),\n",
       " ('w', 'o', 'd', 'r'),\n",
       " ('w', 'r', 'o', 'd'),\n",
       " ('w', 'r', 'd', 'o'),\n",
       " ('w', 'd', 'o', 'r'),\n",
       " ('w', 'd', 'r', 'o'),\n",
       " ('o', 'w', 'r', 'd'),\n",
       " ('o', 'w', 'd', 'r'),\n",
       " ('o', 'r', 'w', 'd'),\n",
       " ('o', 'r', 'd', 'w'),\n",
       " ('o', 'd', 'w', 'r'),\n",
       " ('o', 'd', 'r', 'w'),\n",
       " ('r', 'w', 'o', 'd'),\n",
       " ('r', 'w', 'd', 'o'),\n",
       " ('r', 'o', 'w', 'd'),\n",
       " ('r', 'o', 'd', 'w'),\n",
       " ('r', 'd', 'w', 'o'),\n",
       " ('r', 'd', 'o', 'w'),\n",
       " ('d', 'w', 'o', 'r'),\n",
       " ('d', 'w', 'r', 'o'),\n",
       " ('d', 'o', 'w', 'r'),\n",
       " ('d', 'o', 'r', 'w'),\n",
       " ('d', 'r', 'w', 'o'),\n",
       " ('d', 'r', 'o', 'w')]"
      ]
     },
     "execution_count": 36,
     "metadata": {},
     "output_type": "execute_result"
    }
   ],
   "source": [
    "#2a\n",
    "list(permutations('word'))"
   ]
  },
  {
   "cell_type": "code",
   "execution_count": 37,
   "id": "fabaabe4-c157-4318-87cc-ead5ecfce888",
   "metadata": {},
   "outputs": [
    {
     "data": {
      "text/plain": [
       "24"
      ]
     },
     "execution_count": 37,
     "metadata": {},
     "output_type": "execute_result"
    }
   ],
   "source": [
    "#2b\n",
    "len(list(permutations('word')))"
   ]
  },
  {
   "cell_type": "code",
   "execution_count": 38,
   "id": "db1425be-2f79-4c3f-9534-26a779e3e3ea",
   "metadata": {},
   "outputs": [
    {
     "data": {
      "text/plain": [
       "['d', 'w', 'o', 'r']"
      ]
     },
     "execution_count": 38,
     "metadata": {},
     "output_type": "execute_result"
    }
   ],
   "source": [
    "#2c\n",
    "sample('word',4)"
   ]
  },
  {
   "cell_type": "code",
   "execution_count": 39,
   "id": "267d4924-42a9-4539-8b1e-385e72c9c100",
   "metadata": {},
   "outputs": [],
   "source": [
    "#3\n",
    "def aranjamente(lista, k,numar_total = False, aleator = False):\n",
    "    if number_total == True:\n",
    "        return perm(len(lista),k);\n",
    "    elif aleator == True:\n",
    "        return sample(list,k)\n",
    "    else:\n",
    "        return list(permutations(lista,k));"
   ]
  },
  {
   "cell_type": "code",
   "execution_count": 40,
   "id": "97cf193e-c418-4c6a-80de-ba244814d65d",
   "metadata": {},
   "outputs": [],
   "source": [
    "#3a"
   ]
  },
  {
   "cell_type": "code",
   "execution_count": 41,
   "id": "4e5f3c7f-2968-461a-8de4-e4ca1b10f3ac",
   "metadata": {},
   "outputs": [],
   "source": [
    "#3b"
   ]
  },
  {
   "cell_type": "code",
   "execution_count": 42,
   "id": "0d1f31ed-10e9-40d1-ac60-c35e562f414c",
   "metadata": {},
   "outputs": [],
   "source": [
    "#3c"
   ]
  },
  {
   "cell_type": "code",
   "execution_count": 52,
   "id": "e4623326-8562-4b6e-ae6c-bd4d034bffc8",
   "metadata": {},
   "outputs": [],
   "source": [
    "#4\n",
    "def combinari(lista, k, numar_total = False, aleator = False):\n",
    "        if numar_total == True:\n",
    "            return comb(len(lista),k)\n",
    "        elif aleator == True:\n",
    "            indici_aleatori = sample(list(range(len(lista))),k)\n",
    "            return [lista[i] for i in sorted(indici_aleatori)];\n",
    "        else:\n",
    "            return list(combinations(lista,k));"
   ]
  },
  {
   "cell_type": "code",
   "execution_count": 53,
   "id": "a46b6766-8618-491b-ad41-116fc5d07253",
   "metadata": {},
   "outputs": [
    {
     "name": "stdout",
     "output_type": "stream",
     "text": [
      "[('w', 'o'), ('w', 'r'), ('w', 'd'), ('o', 'r'), ('o', 'd'), ('r', 'd')]\n"
     ]
    }
   ],
   "source": [
    "#4a\n",
    "print(combinari('word',2))"
   ]
  },
  {
   "cell_type": "code",
   "execution_count": 54,
   "id": "0020a4dd-4ada-452b-847a-b9184138b862",
   "metadata": {},
   "outputs": [
    {
     "name": "stdout",
     "output_type": "stream",
     "text": [
      "6\n"
     ]
    }
   ],
   "source": [
    "#4b\n",
    "print(combinari('word',2,numar_total = True))"
   ]
  },
  {
   "cell_type": "code",
   "execution_count": 55,
   "id": "76a9e508-1592-4d32-a16c-316957cc981f",
   "metadata": {},
   "outputs": [
    {
     "name": "stdout",
     "output_type": "stream",
     "text": [
      "['w', 'o']\n"
     ]
    }
   ],
   "source": [
    "print(combinari('word', 2, aleator = True))"
   ]
  },
  {
   "cell_type": "code",
   "execution_count": 57,
   "id": "4a90eb1b-2d86-42be-89a4-db43bcbb2e1b",
   "metadata": {},
   "outputs": [],
   "source": [
    "#4\n",
    "from itertools import combinations_with_replacement"
   ]
  },
  {
   "cell_type": "code",
   "execution_count": 58,
   "id": "ec3d8a23-29d8-4198-b611-acfe6b9f8895",
   "metadata": {},
   "outputs": [
    {
     "data": {
      "text/plain": [
       "[('A', 'A', 'A', 'A'),\n",
       " ('A', 'A', 'A', 'B'),\n",
       " ('A', 'A', 'A', 'C'),\n",
       " ('A', 'A', 'A', 'D'),\n",
       " ('A', 'A', 'A', 'E'),\n",
       " ('A', 'A', 'B', 'B'),\n",
       " ('A', 'A', 'B', 'C'),\n",
       " ('A', 'A', 'B', 'D'),\n",
       " ('A', 'A', 'B', 'E'),\n",
       " ('A', 'A', 'C', 'C'),\n",
       " ('A', 'A', 'C', 'D'),\n",
       " ('A', 'A', 'C', 'E'),\n",
       " ('A', 'A', 'D', 'D'),\n",
       " ('A', 'A', 'D', 'E'),\n",
       " ('A', 'A', 'E', 'E'),\n",
       " ('A', 'B', 'B', 'B'),\n",
       " ('A', 'B', 'B', 'C'),\n",
       " ('A', 'B', 'B', 'D'),\n",
       " ('A', 'B', 'B', 'E'),\n",
       " ('A', 'B', 'C', 'C'),\n",
       " ('A', 'B', 'C', 'D'),\n",
       " ('A', 'B', 'C', 'E'),\n",
       " ('A', 'B', 'D', 'D'),\n",
       " ('A', 'B', 'D', 'E'),\n",
       " ('A', 'B', 'E', 'E'),\n",
       " ('A', 'C', 'C', 'C'),\n",
       " ('A', 'C', 'C', 'D'),\n",
       " ('A', 'C', 'C', 'E'),\n",
       " ('A', 'C', 'D', 'D'),\n",
       " ('A', 'C', 'D', 'E'),\n",
       " ('A', 'C', 'E', 'E'),\n",
       " ('A', 'D', 'D', 'D'),\n",
       " ('A', 'D', 'D', 'E'),\n",
       " ('A', 'D', 'E', 'E'),\n",
       " ('A', 'E', 'E', 'E'),\n",
       " ('B', 'B', 'B', 'B'),\n",
       " ('B', 'B', 'B', 'C'),\n",
       " ('B', 'B', 'B', 'D'),\n",
       " ('B', 'B', 'B', 'E'),\n",
       " ('B', 'B', 'C', 'C'),\n",
       " ('B', 'B', 'C', 'D'),\n",
       " ('B', 'B', 'C', 'E'),\n",
       " ('B', 'B', 'D', 'D'),\n",
       " ('B', 'B', 'D', 'E'),\n",
       " ('B', 'B', 'E', 'E'),\n",
       " ('B', 'C', 'C', 'C'),\n",
       " ('B', 'C', 'C', 'D'),\n",
       " ('B', 'C', 'C', 'E'),\n",
       " ('B', 'C', 'D', 'D'),\n",
       " ('B', 'C', 'D', 'E'),\n",
       " ('B', 'C', 'E', 'E'),\n",
       " ('B', 'D', 'D', 'D'),\n",
       " ('B', 'D', 'D', 'E'),\n",
       " ('B', 'D', 'E', 'E'),\n",
       " ('B', 'E', 'E', 'E'),\n",
       " ('C', 'C', 'C', 'C'),\n",
       " ('C', 'C', 'C', 'D'),\n",
       " ('C', 'C', 'C', 'E'),\n",
       " ('C', 'C', 'D', 'D'),\n",
       " ('C', 'C', 'D', 'E'),\n",
       " ('C', 'C', 'E', 'E'),\n",
       " ('C', 'D', 'D', 'D'),\n",
       " ('C', 'D', 'D', 'E'),\n",
       " ('C', 'D', 'E', 'E'),\n",
       " ('C', 'E', 'E', 'E'),\n",
       " ('D', 'D', 'D', 'D'),\n",
       " ('D', 'D', 'D', 'E'),\n",
       " ('D', 'D', 'E', 'E'),\n",
       " ('D', 'E', 'E', 'E'),\n",
       " ('E', 'E', 'E', 'E')]"
      ]
     },
     "execution_count": 58,
     "metadata": {},
     "output_type": "execute_result"
    }
   ],
   "source": [
    "list(combinations_with_replacement('ABCDE',4))"
   ]
  },
  {
   "cell_type": "code",
   "execution_count": 62,
   "id": "141b7d8a-5880-4fc5-b012-e65d9f10477a",
   "metadata": {},
   "outputs": [
    {
     "name": "stdout",
     "output_type": "stream",
     "text": [
      "A mississipi A mississipi A mississipi A\n",
      "A mississipi A mississipi A mississipi B\n",
      "A mississipi A mississipi A mississipi C\n",
      "A mississipi A mississipi A mississipi D\n",
      "A mississipi A mississipi A mississipi E\n",
      "A mississipi A mississipi B mississipi B\n",
      "A mississipi A mississipi B mississipi C\n",
      "A mississipi A mississipi B mississipi D\n",
      "A mississipi A mississipi B mississipi E\n",
      "A mississipi A mississipi C mississipi C\n",
      "A mississipi A mississipi C mississipi D\n",
      "A mississipi A mississipi C mississipi E\n",
      "A mississipi A mississipi D mississipi D\n",
      "A mississipi A mississipi D mississipi E\n",
      "A mississipi A mississipi E mississipi E\n",
      "A mississipi B mississipi B mississipi B\n",
      "A mississipi B mississipi B mississipi C\n",
      "A mississipi B mississipi B mississipi D\n",
      "A mississipi B mississipi B mississipi E\n",
      "A mississipi B mississipi C mississipi C\n",
      "A mississipi B mississipi C mississipi D\n",
      "A mississipi B mississipi C mississipi E\n",
      "A mississipi B mississipi D mississipi D\n",
      "A mississipi B mississipi D mississipi E\n",
      "A mississipi B mississipi E mississipi E\n",
      "A mississipi C mississipi C mississipi C\n",
      "A mississipi C mississipi C mississipi D\n",
      "A mississipi C mississipi C mississipi E\n",
      "A mississipi C mississipi D mississipi D\n",
      "A mississipi C mississipi D mississipi E\n",
      "A mississipi C mississipi E mississipi E\n",
      "A mississipi D mississipi D mississipi D\n",
      "A mississipi D mississipi D mississipi E\n",
      "A mississipi D mississipi E mississipi E\n",
      "A mississipi E mississipi E mississipi E\n",
      "B mississipi B mississipi B mississipi B\n",
      "B mississipi B mississipi B mississipi C\n",
      "B mississipi B mississipi B mississipi D\n",
      "B mississipi B mississipi B mississipi E\n",
      "B mississipi B mississipi C mississipi C\n",
      "B mississipi B mississipi C mississipi D\n",
      "B mississipi B mississipi C mississipi E\n",
      "B mississipi B mississipi D mississipi D\n",
      "B mississipi B mississipi D mississipi E\n",
      "B mississipi B mississipi E mississipi E\n",
      "B mississipi C mississipi C mississipi C\n",
      "B mississipi C mississipi C mississipi D\n",
      "B mississipi C mississipi C mississipi E\n",
      "B mississipi C mississipi D mississipi D\n",
      "B mississipi C mississipi D mississipi E\n",
      "B mississipi C mississipi E mississipi E\n",
      "B mississipi D mississipi D mississipi D\n",
      "B mississipi D mississipi D mississipi E\n",
      "B mississipi D mississipi E mississipi E\n",
      "B mississipi E mississipi E mississipi E\n",
      "C mississipi C mississipi C mississipi C\n",
      "C mississipi C mississipi C mississipi D\n",
      "C mississipi C mississipi C mississipi E\n",
      "C mississipi C mississipi D mississipi D\n",
      "C mississipi C mississipi D mississipi E\n",
      "C mississipi C mississipi E mississipi E\n",
      "C mississipi D mississipi D mississipi D\n",
      "C mississipi D mississipi D mississipi E\n",
      "C mississipi D mississipi E mississipi E\n",
      "C mississipi E mississipi E mississipi E\n",
      "D mississipi D mississipi D mississipi D\n",
      "D mississipi D mississipi D mississipi E\n",
      "D mississipi D mississipi E mississipi E\n",
      "D mississipi E mississipi E mississipi E\n",
      "E mississipi E mississipi E mississipi E\n"
     ]
    }
   ],
   "source": [
    "#alternativ\n",
    "for s in combinations_with_replacement('ABCDE',4):\n",
    "    print(' mississipi '.join(s));"
   ]
  },
  {
   "cell_type": "code",
   "execution_count": 73,
   "id": "73754199-f2a6-48c8-a874-fc50d70d3ccd",
   "metadata": {},
   "outputs": [],
   "source": [
    "#5\n",
    "\n",
    "    "
   ]
  },
  {
   "cell_type": "code",
   "execution_count": null,
   "id": "302f17d0-9860-40a0-9e87-2af2aa526197",
   "metadata": {},
   "outputs": [],
   "source": [
    "persoane_scaune(5,12);"
   ]
  },
  {
   "cell_type": "code",
   "execution_count": null,
   "id": "42e013c6-2f3d-4272-9e1a-8f6e57118623",
   "metadata": {},
   "outputs": [],
   "source": []
  }
 ],
 "metadata": {
  "kernelspec": {
   "display_name": "Python 3 (ipykernel)",
   "language": "python",
   "name": "python3"
  },
  "language_info": {
   "codemirror_mode": {
    "name": "ipython",
    "version": 3
   },
   "file_extension": ".py",
   "mimetype": "text/x-python",
   "name": "python",
   "nbconvert_exporter": "python",
   "pygments_lexer": "ipython3",
   "version": "3.11.2"
  }
 },
 "nbformat": 4,
 "nbformat_minor": 5
}
