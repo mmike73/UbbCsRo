{
 "cells": [
  {
   "cell_type": "code",
   "execution_count": 83,
   "metadata": {},
   "outputs": [],
   "source": [
    "#2\n",
    "from random import sample, randint\n",
    "from math import factorial\n",
    "from itertools import permutations"
   ]
  },
  {
   "cell_type": "code",
   "execution_count": 84,
   "metadata": {},
   "outputs": [
    {
     "data": {
      "text/plain": [
       "[('w', 'o', 'r', 'd'),\n",
       " ('w', 'o', 'd', 'r'),\n",
       " ('w', 'r', 'o', 'd'),\n",
       " ('w', 'r', 'd', 'o'),\n",
       " ('w', 'd', 'o', 'r'),\n",
       " ('w', 'd', 'r', 'o'),\n",
       " ('o', 'w', 'r', 'd'),\n",
       " ('o', 'w', 'd', 'r'),\n",
       " ('o', 'r', 'w', 'd'),\n",
       " ('o', 'r', 'd', 'w'),\n",
       " ('o', 'd', 'w', 'r'),\n",
       " ('o', 'd', 'r', 'w'),\n",
       " ('r', 'w', 'o', 'd'),\n",
       " ('r', 'w', 'd', 'o'),\n",
       " ('r', 'o', 'w', 'd'),\n",
       " ('r', 'o', 'd', 'w'),\n",
       " ('r', 'd', 'w', 'o'),\n",
       " ('r', 'd', 'o', 'w'),\n",
       " ('d', 'w', 'o', 'r'),\n",
       " ('d', 'w', 'r', 'o'),\n",
       " ('d', 'o', 'w', 'r'),\n",
       " ('d', 'o', 'r', 'w'),\n",
       " ('d', 'r', 'w', 'o'),\n",
       " ('d', 'r', 'o', 'w')]"
      ]
     },
     "execution_count": 84,
     "metadata": {},
     "output_type": "execute_result"
    }
   ],
   "source": [
    "#a\n",
    "list(permutations(['w', 'o', 'r', 'd']))"
   ]
  },
  {
   "cell_type": "code",
   "execution_count": 85,
   "metadata": {},
   "outputs": [
    {
     "data": {
      "text/plain": [
       "[('w', 'o', 'r', 'd'),\n",
       " ('w', 'o', 'd', 'r'),\n",
       " ('w', 'r', 'o', 'd'),\n",
       " ('w', 'r', 'd', 'o'),\n",
       " ('w', 'd', 'o', 'r'),\n",
       " ('w', 'd', 'r', 'o'),\n",
       " ('o', 'w', 'r', 'd'),\n",
       " ('o', 'w', 'd', 'r'),\n",
       " ('o', 'r', 'w', 'd'),\n",
       " ('o', 'r', 'd', 'w'),\n",
       " ('o', 'd', 'w', 'r'),\n",
       " ('o', 'd', 'r', 'w'),\n",
       " ('r', 'w', 'o', 'd'),\n",
       " ('r', 'w', 'd', 'o'),\n",
       " ('r', 'o', 'w', 'd'),\n",
       " ('r', 'o', 'd', 'w'),\n",
       " ('r', 'd', 'w', 'o'),\n",
       " ('r', 'd', 'o', 'w'),\n",
       " ('d', 'w', 'o', 'r'),\n",
       " ('d', 'w', 'r', 'o'),\n",
       " ('d', 'o', 'w', 'r'),\n",
       " ('d', 'o', 'r', 'w'),\n",
       " ('d', 'r', 'w', 'o'),\n",
       " ('d', 'r', 'o', 'w')]"
      ]
     },
     "execution_count": 85,
     "metadata": {},
     "output_type": "execute_result"
    }
   ],
   "source": [
    "list(permutations('word', 4))"
   ]
  },
  {
   "cell_type": "code",
   "execution_count": 86,
   "metadata": {},
   "outputs": [
    {
     "data": {
      "text/plain": [
       "[('w', 'o', 'r', 'd'),\n",
       " ('w', 'o', 'd', 'r'),\n",
       " ('w', 'r', 'o', 'd'),\n",
       " ('w', 'r', 'd', 'o'),\n",
       " ('w', 'd', 'o', 'r'),\n",
       " ('w', 'd', 'r', 'o'),\n",
       " ('o', 'w', 'r', 'd'),\n",
       " ('o', 'w', 'd', 'r'),\n",
       " ('o', 'r', 'w', 'd'),\n",
       " ('o', 'r', 'd', 'w'),\n",
       " ('o', 'd', 'w', 'r'),\n",
       " ('o', 'd', 'r', 'w'),\n",
       " ('r', 'w', 'o', 'd'),\n",
       " ('r', 'w', 'd', 'o'),\n",
       " ('r', 'o', 'w', 'd'),\n",
       " ('r', 'o', 'd', 'w'),\n",
       " ('r', 'd', 'w', 'o'),\n",
       " ('r', 'd', 'o', 'w'),\n",
       " ('d', 'w', 'o', 'r'),\n",
       " ('d', 'w', 'r', 'o'),\n",
       " ('d', 'o', 'w', 'r'),\n",
       " ('d', 'o', 'r', 'w'),\n",
       " ('d', 'r', 'w', 'o'),\n",
       " ('d', 'r', 'o', 'w')]"
      ]
     },
     "execution_count": 86,
     "metadata": {},
     "output_type": "execute_result"
    }
   ],
   "source": [
    "list(permutations('word'))"
   ]
  },
  {
   "cell_type": "code",
   "execution_count": 87,
   "metadata": {},
   "outputs": [
    {
     "data": {
      "text/plain": [
       "[('w', 'o', 'r', 'd'),\n",
       " ('w', 'o', 'd', 'r'),\n",
       " ('w', 'r', 'o', 'd'),\n",
       " ('w', 'r', 'd', 'o'),\n",
       " ('w', 'd', 'o', 'r'),\n",
       " ('w', 'd', 'r', 'o'),\n",
       " ('o', 'w', 'r', 'd'),\n",
       " ('o', 'w', 'd', 'r'),\n",
       " ('o', 'r', 'w', 'd'),\n",
       " ('o', 'r', 'd', 'w'),\n",
       " ('o', 'd', 'w', 'r'),\n",
       " ('o', 'd', 'r', 'w'),\n",
       " ('r', 'w', 'o', 'd'),\n",
       " ('r', 'w', 'd', 'o'),\n",
       " ('r', 'o', 'w', 'd'),\n",
       " ('r', 'o', 'd', 'w'),\n",
       " ('r', 'd', 'w', 'o'),\n",
       " ('r', 'd', 'o', 'w'),\n",
       " ('d', 'w', 'o', 'r'),\n",
       " ('d', 'w', 'r', 'o'),\n",
       " ('d', 'o', 'w', 'r'),\n",
       " ('d', 'o', 'r', 'w'),\n",
       " ('d', 'r', 'w', 'o'),\n",
       " ('d', 'r', 'o', 'w')]"
      ]
     },
     "execution_count": 87,
     "metadata": {},
     "output_type": "execute_result"
    }
   ],
   "source": [
    "list(permutations(\"word\"))"
   ]
  },
  {
   "cell_type": "code",
   "execution_count": 88,
   "metadata": {},
   "outputs": [
    {
     "data": {
      "text/plain": [
       "24"
      ]
     },
     "execution_count": 88,
     "metadata": {},
     "output_type": "execute_result"
    }
   ],
   "source": [
    "#b \n",
    "len(list(permutations('word')))"
   ]
  },
  {
   "cell_type": "code",
   "execution_count": 89,
   "metadata": {},
   "outputs": [
    {
     "name": "stdout",
     "output_type": "stream",
     "text": [
      "('o', 'r', 'd', 'w')\n"
     ]
    }
   ],
   "source": [
    "#c\n",
    "pms = list(permutations('word'))\n",
    "print(pms[randint(0, len(pms) - 1)])"
   ]
  },
  {
   "cell_type": "code",
   "execution_count": 90,
   "metadata": {},
   "outputs": [],
   "source": [
    "#3\n",
    "from random import sample\n",
    "from math import perm, comb\n",
    "from itertools import permutations, combinations"
   ]
  },
  {
   "cell_type": "code",
   "execution_count": 91,
   "metadata": {},
   "outputs": [],
   "source": [
    "#a\n",
    "def aranjamente(lista, k, numar_total=False, aleator=False):\n",
    "    if aleator:\n",
    "        return sample(lista, k)\n",
    "    elif numar_total:\n",
    "        return perm(len(lista), k)\n",
    "    else:\n",
    "        return list(permutations(lista, k))\n",
    "    "
   ]
  },
  {
   "cell_type": "code",
   "execution_count": 92,
   "metadata": {},
   "outputs": [
    {
     "data": {
      "text/plain": [
       "12"
      ]
     },
     "execution_count": 92,
     "metadata": {},
     "output_type": "execute_result"
    }
   ],
   "source": [
    "aranjamente('word', 2, numar_total=True)"
   ]
  },
  {
   "cell_type": "code",
   "execution_count": 93,
   "metadata": {},
   "outputs": [
    {
     "data": {
      "text/plain": [
       "['o', 'd']"
      ]
     },
     "execution_count": 93,
     "metadata": {},
     "output_type": "execute_result"
    }
   ],
   "source": [
    "aranjamente('word', 2, aleator=True)"
   ]
  },
  {
   "cell_type": "code",
   "execution_count": 94,
   "metadata": {},
   "outputs": [],
   "source": [
    "def combinari(lista, k, numar_total=False, aleator=False):\n",
    "    if aleator:\n",
    "        rand_ind = sample(list(range(len(lista))), k)\n",
    "        return [lista[i] for i in sorted(rand_ind)]\n",
    "    elif numar_total:\n",
    "        return comb(len(lista), k)\n",
    "    else:\n",
    "        return list(combinations(lista, k))"
   ]
  },
  {
   "cell_type": "code",
   "execution_count": 95,
   "metadata": {},
   "outputs": [
    {
     "data": {
      "text/plain": [
       "[('w', 'o'), ('w', 'r'), ('w', 'd'), ('o', 'r'), ('o', 'd'), ('r', 'd')]"
      ]
     },
     "execution_count": 95,
     "metadata": {},
     "output_type": "execute_result"
    }
   ],
   "source": [
    "combinari('word', 2)"
   ]
  },
  {
   "cell_type": "code",
   "execution_count": 96,
   "metadata": {},
   "outputs": [
    {
     "data": {
      "text/plain": [
       "6"
      ]
     },
     "execution_count": 96,
     "metadata": {},
     "output_type": "execute_result"
    }
   ],
   "source": [
    "combinari('word', 2, numar_total=True)"
   ]
  },
  {
   "cell_type": "code",
   "execution_count": 97,
   "metadata": {},
   "outputs": [
    {
     "data": {
      "text/plain": [
       "['w', 'r']"
      ]
     },
     "execution_count": 97,
     "metadata": {},
     "output_type": "execute_result"
    }
   ],
   "source": [
    "combinari('word', 2, aleator=True)"
   ]
  },
  {
   "cell_type": "code",
   "execution_count": 98,
   "metadata": {},
   "outputs": [],
   "source": [
    "#4\n",
    "from itertools import combinations_with_replacement"
   ]
  },
  {
   "cell_type": "code",
   "execution_count": 100,
   "metadata": {},
   "outputs": [
    {
     "data": {
      "text/plain": [
       "[('A', 'A', 'A', 'A'),\n",
       " ('A', 'A', 'A', 'B'),\n",
       " ('A', 'A', 'A', 'C'),\n",
       " ('A', 'A', 'A', 'D'),\n",
       " ('A', 'A', 'A', 'E'),\n",
       " ('A', 'A', 'B', 'B'),\n",
       " ('A', 'A', 'B', 'C'),\n",
       " ('A', 'A', 'B', 'D'),\n",
       " ('A', 'A', 'B', 'E'),\n",
       " ('A', 'A', 'C', 'C'),\n",
       " ('A', 'A', 'C', 'D'),\n",
       " ('A', 'A', 'C', 'E'),\n",
       " ('A', 'A', 'D', 'D'),\n",
       " ('A', 'A', 'D', 'E'),\n",
       " ('A', 'A', 'E', 'E'),\n",
       " ('A', 'B', 'B', 'B'),\n",
       " ('A', 'B', 'B', 'C'),\n",
       " ('A', 'B', 'B', 'D'),\n",
       " ('A', 'B', 'B', 'E'),\n",
       " ('A', 'B', 'C', 'C'),\n",
       " ('A', 'B', 'C', 'D'),\n",
       " ('A', 'B', 'C', 'E'),\n",
       " ('A', 'B', 'D', 'D'),\n",
       " ('A', 'B', 'D', 'E'),\n",
       " ('A', 'B', 'E', 'E'),\n",
       " ('A', 'C', 'C', 'C'),\n",
       " ('A', 'C', 'C', 'D'),\n",
       " ('A', 'C', 'C', 'E'),\n",
       " ('A', 'C', 'D', 'D'),\n",
       " ('A', 'C', 'D', 'E'),\n",
       " ('A', 'C', 'E', 'E'),\n",
       " ('A', 'D', 'D', 'D'),\n",
       " ('A', 'D', 'D', 'E'),\n",
       " ('A', 'D', 'E', 'E'),\n",
       " ('A', 'E', 'E', 'E'),\n",
       " ('B', 'B', 'B', 'B'),\n",
       " ('B', 'B', 'B', 'C'),\n",
       " ('B', 'B', 'B', 'D'),\n",
       " ('B', 'B', 'B', 'E'),\n",
       " ('B', 'B', 'C', 'C'),\n",
       " ('B', 'B', 'C', 'D'),\n",
       " ('B', 'B', 'C', 'E'),\n",
       " ('B', 'B', 'D', 'D'),\n",
       " ('B', 'B', 'D', 'E'),\n",
       " ('B', 'B', 'E', 'E'),\n",
       " ('B', 'C', 'C', 'C'),\n",
       " ('B', 'C', 'C', 'D'),\n",
       " ('B', 'C', 'C', 'E'),\n",
       " ('B', 'C', 'D', 'D'),\n",
       " ('B', 'C', 'D', 'E'),\n",
       " ('B', 'C', 'E', 'E'),\n",
       " ('B', 'D', 'D', 'D'),\n",
       " ('B', 'D', 'D', 'E'),\n",
       " ('B', 'D', 'E', 'E'),\n",
       " ('B', 'E', 'E', 'E'),\n",
       " ('C', 'C', 'C', 'C'),\n",
       " ('C', 'C', 'C', 'D'),\n",
       " ('C', 'C', 'C', 'E'),\n",
       " ('C', 'C', 'D', 'D'),\n",
       " ('C', 'C', 'D', 'E'),\n",
       " ('C', 'C', 'E', 'E'),\n",
       " ('C', 'D', 'D', 'D'),\n",
       " ('C', 'D', 'D', 'E'),\n",
       " ('C', 'D', 'E', 'E'),\n",
       " ('C', 'E', 'E', 'E'),\n",
       " ('D', 'D', 'D', 'D'),\n",
       " ('D', 'D', 'D', 'E'),\n",
       " ('D', 'D', 'E', 'E'),\n",
       " ('D', 'E', 'E', 'E'),\n",
       " ('E', 'E', 'E', 'E')]"
      ]
     },
     "execution_count": 100,
     "metadata": {},
     "output_type": "execute_result"
    }
   ],
   "source": [
    "list(combinations_with_replacement('ABCDE', 4))"
   ]
  },
  {
   "cell_type": "code",
   "execution_count": 1,
   "metadata": {},
   "outputs": [],
   "source": [
    "from scipy.stats import geom"
   ]
  },
  {
   "cell_type": "code",
   "execution_count": 2,
   "metadata": {},
   "outputs": [
    {
     "name": "stdout",
     "output_type": "stream",
     "text": [
      "Help on geom_gen in module scipy.stats._discrete_distns:\n",
      "\n",
      "<scipy.stats._discrete_distns.geom_gen object>\n",
      "    A geometric discrete random variable.\n",
      "    \n",
      "    As an instance of the `rv_discrete` class, `geom` object inherits from it\n",
      "    a collection of generic methods (see below for the full list),\n",
      "    and completes them with details specific for this particular distribution.\n",
      "    \n",
      "    Methods\n",
      "    -------\n",
      "    rvs(p, loc=0, size=1, random_state=None)\n",
      "        Random variates.\n",
      "    pmf(k, p, loc=0)\n",
      "        Probability mass function.\n",
      "    logpmf(k, p, loc=0)\n",
      "        Log of the probability mass function.\n",
      "    cdf(k, p, loc=0)\n",
      "        Cumulative distribution function.\n",
      "    logcdf(k, p, loc=0)\n",
      "        Log of the cumulative distribution function.\n",
      "    sf(k, p, loc=0)\n",
      "        Survival function  (also defined as ``1 - cdf``, but `sf` is sometimes more accurate).\n",
      "    logsf(k, p, loc=0)\n",
      "        Log of the survival function.\n",
      "    ppf(q, p, loc=0)\n",
      "        Percent point function (inverse of ``cdf`` --- percentiles).\n",
      "    isf(q, p, loc=0)\n",
      "        Inverse survival function (inverse of ``sf``).\n",
      "    stats(p, loc=0, moments='mv')\n",
      "        Mean('m'), variance('v'), skew('s'), and/or kurtosis('k').\n",
      "    entropy(p, loc=0)\n",
      "        (Differential) entropy of the RV.\n",
      "    expect(func, args=(p,), loc=0, lb=None, ub=None, conditional=False)\n",
      "        Expected value of a function (of one argument) with respect to the distribution.\n",
      "    median(p, loc=0)\n",
      "        Median of the distribution.\n",
      "    mean(p, loc=0)\n",
      "        Mean of the distribution.\n",
      "    var(p, loc=0)\n",
      "        Variance of the distribution.\n",
      "    std(p, loc=0)\n",
      "        Standard deviation of the distribution.\n",
      "    interval(confidence, p, loc=0)\n",
      "        Confidence interval with equal areas around the median.\n",
      "    \n",
      "    Notes\n",
      "    -----\n",
      "    The probability mass function for `geom` is:\n",
      "    \n",
      "    .. math::\n",
      "    \n",
      "        f(k) = (1-p)^{k-1} p\n",
      "    \n",
      "    for :math:`k \\ge 1`, :math:`0 < p \\leq 1`\n",
      "    \n",
      "    `geom` takes :math:`p` as shape parameter,\n",
      "    where :math:`p` is the probability of a single success\n",
      "    and :math:`1-p` is the probability of a single failure.\n",
      "    \n",
      "    The probability mass function above is defined in the \"standardized\" form.\n",
      "    To shift distribution use the ``loc`` parameter.\n",
      "    Specifically, ``geom.pmf(k, p, loc)`` is identically\n",
      "    equivalent to ``geom.pmf(k - loc, p)``.\n",
      "    \n",
      "    See Also\n",
      "    --------\n",
      "    planck\n",
      "    \n",
      "    Examples\n",
      "    --------\n",
      "    >>> import numpy as np\n",
      "    >>> from scipy.stats import geom\n",
      "    >>> import matplotlib.pyplot as plt\n",
      "    >>> fig, ax = plt.subplots(1, 1)\n",
      "    \n",
      "    Calculate the first four moments:\n",
      "    \n",
      "    >>> p = 0.5\n",
      "    >>> mean, var, skew, kurt = geom.stats(p, moments='mvsk')\n",
      "    \n",
      "    Display the probability mass function (``pmf``):\n",
      "    \n",
      "    >>> x = np.arange(geom.ppf(0.01, p),\n",
      "    ...               geom.ppf(0.99, p))\n",
      "    >>> ax.plot(x, geom.pmf(x, p), 'bo', ms=8, label='geom pmf')\n",
      "    >>> ax.vlines(x, 0, geom.pmf(x, p), colors='b', lw=5, alpha=0.5)\n",
      "    \n",
      "    Alternatively, the distribution object can be called (as a function)\n",
      "    to fix the shape and location. This returns a \"frozen\" RV object holding\n",
      "    the given parameters fixed.\n",
      "    \n",
      "    Freeze the distribution and display the frozen ``pmf``:\n",
      "    \n",
      "    >>> rv = geom(p)\n",
      "    >>> ax.vlines(x, 0, rv.pmf(x), colors='k', linestyles='-', lw=1,\n",
      "    ...         label='frozen pmf')\n",
      "    >>> ax.legend(loc='best', frameon=False)\n",
      "    >>> plt.show()\n",
      "    \n",
      "    Check accuracy of ``cdf`` and ``ppf``:\n",
      "    \n",
      "    >>> prob = geom.cdf(x, p)\n",
      "    >>> np.allclose(x, geom.ppf(prob, p))\n",
      "    True\n",
      "    \n",
      "    Generate random numbers:\n",
      "    \n",
      "    >>> r = geom.rvs(p, size=1000)\n",
      "\n"
     ]
    }
   ],
   "source": [
    "help(geom)"
   ]
  },
  {
   "cell_type": "code",
   "execution_count": 5,
   "metadata": {},
   "outputs": [
    {
     "ename": "NameError",
     "evalue": "name 'radom' is not defined",
     "output_type": "error",
     "traceback": [
      "\u001b[0;31m---------------------------------------------------------------------------\u001b[0m",
      "\u001b[0;31mNameError\u001b[0m                                 Traceback (most recent call last)",
      "Cell \u001b[0;32mIn[5], line 2\u001b[0m\n\u001b[1;32m      1\u001b[0m \u001b[38;5;28;01mfrom\u001b[39;00m \u001b[38;5;21;01mrandom\u001b[39;00m \u001b[38;5;28;01mimport\u001b[39;00m randint, randrange\n\u001b[0;32m----> 2\u001b[0m \u001b[43mradom\u001b[49m(\u001b[38;5;241m1\u001b[39m,\u001b[38;5;241m5\u001b[39m)\n",
      "\u001b[0;31mNameError\u001b[0m: name 'radom' is not defined"
     ]
    }
   ],
   "source": [
    "from random import randint, randrange\n",
    "radint(1,5)"
   ]
  },
  {
   "cell_type": "code",
   "execution_count": null,
   "metadata": {},
   "outputs": [],
   "source": []
  }
 ],
 "metadata": {
  "kernelspec": {
   "display_name": "Python 3 (ipykernel)",
   "language": "python",
   "name": "python3"
  },
  "language_info": {
   "codemirror_mode": {
    "name": "ipython",
    "version": 3
   },
   "file_extension": ".py",
   "mimetype": "text/x-python",
   "name": "python",
   "nbconvert_exporter": "python",
   "pygments_lexer": "ipython3",
   "version": "3.11.2"
  }
 },
 "nbformat": 4,
 "nbformat_minor": 4
}
