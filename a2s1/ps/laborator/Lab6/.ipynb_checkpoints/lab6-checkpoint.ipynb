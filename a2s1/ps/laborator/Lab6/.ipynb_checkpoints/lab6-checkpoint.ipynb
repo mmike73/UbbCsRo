{
 "cells": [
  {
   "cell_type": "code",
   "execution_count": null,
   "id": "fcd4399e-7c3a-43ff-8ffa-2afd98a0ee5f",
   "metadata": {},
   "outputs": [],
   "source": [
    "from scipy.stats import norm\n",
    "from numpy import mean, std, linspace\n",
    "from matplotlib.pyplot import show, hist, grid. legend, xticks, plot"
   ]
  },
  {
   "cell_type": "code",
   "execution_count": null,
   "id": "2e8e3817-3711-41d2-bb52-0f41eeb6b219",
   "metadata": {},
   "outputs": [],
   "source": []
  }
 ],
 "metadata": {
  "kernelspec": {
   "display_name": "Python 3 (ipykernel)",
   "language": "python",
   "name": "python3"
  },
  "language_info": {
   "codemirror_mode": {
    "name": "ipython",
    "version": 3
   },
   "file_extension": ".py",
   "mimetype": "text/x-python",
   "name": "python",
   "nbconvert_exporter": "python",
   "pygments_lexer": "ipython3",
   "version": "3.11.2"
  }
 },
 "nbformat": 4,
 "nbformat_minor": 5
}
