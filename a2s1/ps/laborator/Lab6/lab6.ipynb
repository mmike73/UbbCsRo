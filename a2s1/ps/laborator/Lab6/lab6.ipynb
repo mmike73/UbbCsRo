{
 "cells": [
  {
   "cell_type": "code",
   "execution_count": 2,
   "id": "fcd4399e-7c3a-43ff-8ffa-2afd98a0ee5f",
   "metadata": {},
   "outputs": [],
   "source": [
    "from scipy.stats import norm\n",
    "from numpy import mean, std, linspace\n",
    "from matplotlib.pyplot import show, hist, grid, legend, xticks, plot\n",
    "\n",
    "data = norm.rvs(loc = 165, scale = 10, size = 5000)"
   ]
  },
  {
   "cell_type": "code",
   "execution_count": 3,
   "id": "2e8e3817-3711-41d2-bb52-0f41eeb6b219",
   "metadata": {},
   "outputs": [
    {
     "data": {
      "text/plain": [
       "array([167.73710882, 181.61961602, 171.57983435, ..., 153.90721179,\n",
       "       161.63457606, 161.39831392])"
      ]
     },
     "execution_count": 3,
     "metadata": {},
     "output_type": "execute_result"
    }
   ],
   "source": [
    "data"
   ]
  },
  {
   "cell_type": "code",
   "execution_count": null,
   "id": "d06364ac-4329-4805-a103-e7f3bde15fb8",
   "metadata": {},
   "outputs": [],
   "source": [
    "data = norm.rvs(loc = 165, scale = 10, size = 5000)\n",
    "hsit = "
   ]
  }
 ],
 "metadata": {
  "kernelspec": {
   "display_name": "Python 3 (ipykernel)",
   "language": "python",
   "name": "python3"
  },
  "language_info": {
   "codemirror_mode": {
    "name": "ipython",
    "version": 3
   },
   "file_extension": ".py",
   "mimetype": "text/x-python",
   "name": "python",
   "nbconvert_exporter": "python",
   "pygments_lexer": "ipython3",
   "version": "3.11.2"
  }
 },
 "nbformat": 4,
 "nbformat_minor": 5
}
